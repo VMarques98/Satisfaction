{
  "nbformat": 4,
  "nbformat_minor": 0,
  "metadata": {
    "colab": {
      "provenance": [],
      "authorship_tag": "ABX9TyPD7cS0qPwBpzke7JxGZd09",
      "include_colab_link": true
    },
    "kernelspec": {
      "name": "python3",
      "display_name": "Python 3"
    },
    "language_info": {
      "name": "python"
    }
  },
  "cells": [
    {
      "cell_type": "markdown",
      "metadata": {
        "id": "view-in-github",
        "colab_type": "text"
      },
      "source": [
        "<a href=\"https://colab.research.google.com/github/VMarques98/Satisfaction/blob/main/RoyalCarribeanTest.ipynb\" target=\"_parent\"><img src=\"https://colab.research.google.com/assets/colab-badge.svg\" alt=\"Open In Colab\"/></a>"
      ]
    },
    {
      "cell_type": "code",
      "execution_count": 1,
      "metadata": {
        "id": "K0TOhfZrNpeT"
      },
      "outputs": [],
      "source": [
        "#Royal Carribean Test By Victor Marques 05/20/23"
      ]
    },
    {
      "cell_type": "markdown",
      "source": [
        "Data Cleaning: The initial step to take with problem 3 is Data Cleaning, First thing is to load the excel sheet into the data frame, afterwards you will take the values created and IN PLACE (this is important to save data when doing operations on large datasets) remove all empty string/null values from the dataset. This is done to handle missing values. To do this we find all nulls in the dataframe, next we replace all nulls with the mean. This statsitically doesnt change much as we are using the average of the column (if theyre numeric). Afterwards we check to see if there are no missing values left in the data frame.\n",
        "\n",
        " "
      ],
      "metadata": {
        "id": "RAsUKqIgPOgW"
      }
    },
    {
      "cell_type": "code",
      "source": [
        "import pandas as pd\n",
        "import numpy as np\n",
        "\n",
        "# Load the DataFrame from an Excel file\n",
        "df = pd.read_excel('satisfaction.xlsx')\n",
        "\n",
        "# Calculate total number of rows\n",
        "total_rows = df.shape[0]\n",
        "\n",
        "# Calculate number of rows with at least one missing value\n",
        "missing_rows = df.isnull().any(axis=1).sum()\n",
        "\n",
        "# Calculate percentage of rows with missing values\n",
        "percentage_missing = (missing_rows / total_rows) * 100\n",
        "\n",
        "print('Percentage of rows with at least one missing value: \\\n",
        " {}%'.format(percentage_missing))\n",
        "\n",
        "# Check for missing values in the DataFrame\n",
        "print(df.isnull().sum())\n",
        "\n",
        "# Filling missing values with mean of the column\n",
        "for column in df.columns:\n",
        "    if df[column].dtype != np.object:  # filling missing values is meaningful only for numeric columns\n",
        "        df[column] = df[column].fillna(df[column].mean())\n",
        "\n",
        "# Check if there still exist any missing values\n",
        "print(df.isnull().sum())\n"
      ],
      "metadata": {
        "colab": {
          "base_uri": "https://localhost:8080/"
        },
        "id": "X2upGaPlTt6U",
        "outputId": "f91573b8-51e2-4caf-99b6-1ed6eaf663e6"
      },
      "execution_count": 2,
      "outputs": [
        {
          "output_type": "stream",
          "name": "stdout",
          "text": [
            "Percentage of rows with at least one missing value:  0.3025870033877425%\n",
            "id                                     0\n",
            "satisfaction_v2                        0\n",
            "Gender                                 0\n",
            "Customer Type                          0\n",
            "Age                                    0\n",
            "Type of Travel                         0\n",
            "Class                                  0\n",
            "Flight Distance                        0\n",
            "Inflight wifi service                  0\n",
            "Departure/Arrival time convenient      0\n",
            "Ease of Online booking                 0\n",
            "Gate location                          0\n",
            "Food and drink                         0\n",
            "Online boarding                        0\n",
            "Seat comfort                           0\n",
            "Inflight entertainment                 0\n",
            "On-board service                       0\n",
            "Leg room service                       0\n",
            "Baggage handling                       0\n",
            "Checkin service                        0\n",
            "Inflight service                       0\n",
            "Cleanliness                            0\n",
            "Departure Delay in Minutes             0\n",
            "Arrival Delay in Minutes             393\n",
            "dtype: int64\n",
            "id                                   0\n",
            "satisfaction_v2                      0\n",
            "Gender                               0\n",
            "Customer Type                        0\n",
            "Age                                  0\n",
            "Type of Travel                       0\n",
            "Class                                0\n",
            "Flight Distance                      0\n",
            "Inflight wifi service                0\n",
            "Departure/Arrival time convenient    0\n",
            "Ease of Online booking               0\n",
            "Gate location                        0\n",
            "Food and drink                       0\n",
            "Online boarding                      0\n",
            "Seat comfort                         0\n",
            "Inflight entertainment               0\n",
            "On-board service                     0\n",
            "Leg room service                     0\n",
            "Baggage handling                     0\n",
            "Checkin service                      0\n",
            "Inflight service                     0\n",
            "Cleanliness                          0\n",
            "Departure Delay in Minutes           0\n",
            "Arrival Delay in Minutes             0\n",
            "dtype: int64\n"
          ]
        },
        {
          "output_type": "stream",
          "name": "stderr",
          "text": [
            "<ipython-input-2-18ea74cd16f4>:24: DeprecationWarning: `np.object` is a deprecated alias for the builtin `object`. To silence this warning, use `object` by itself. Doing this will not modify any behavior and is safe. \n",
            "Deprecated in NumPy 1.20; for more details and guidance: https://numpy.org/devdocs/release/1.20.0-notes.html#deprecations\n",
            "  if df[column].dtype != np.object:  # filling missing values is meaningful only for numeric columns\n"
          ]
        }
      ]
    },
    {
      "cell_type": "markdown",
      "source": [
        "Next I check for duplicates that exist within the dataframe. To do this I first"
      ],
      "metadata": {
        "id": "iYyV1h-5UvQ6"
      }
    }
  ]
}